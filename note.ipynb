{
 "cells": [
  {
   "metadata": {},
   "cell_type": "markdown",
   "source": [
    "# Data Analytics Coursework\n",
    "**Oliwier Kulczycki**"
   ],
   "id": "a0165f7457591613"
  },
  {
   "metadata": {},
   "cell_type": "markdown",
   "source": "# Setup",
   "id": "cafaf42314c96a0c"
  },
  {
   "cell_type": "code",
   "id": "initial_id",
   "metadata": {
    "collapsed": true,
    "ExecuteTime": {
     "end_time": "2025-10-26T20:07:43.053113Z",
     "start_time": "2025-10-26T20:07:42.497036Z"
    }
   },
   "source": [
    "from matplotlib import pyplot as plt\n",
    "import pandas as pd\n",
    "import numpy as np\n",
    "from scipy.io import arff"
   ],
   "outputs": [],
   "execution_count": 1
  },
  {
   "metadata": {
    "ExecuteTime": {
     "end_time": "2025-10-26T20:07:43.060299Z",
     "start_time": "2025-10-26T20:07:43.056330Z"
    }
   },
   "cell_type": "code",
   "source": [
    "path_full = \"credits-clean.csv\"\n",
    "full_data = pd.read_csv(path_full)\n",
    "df = full_data\n",
    "\n",
    "bar_width = 0.25"
   ],
   "id": "4320f0e971405a93",
   "outputs": [],
   "execution_count": 2
  },
  {
   "metadata": {},
   "cell_type": "markdown",
   "source": "# Dataset Versions",
   "id": "d72a8812cda322bc"
  },
  {
   "metadata": {},
   "cell_type": "markdown",
   "source": [
    "## Converting to numeric\n",
    "For this task, I decided to use a method which 'enumrates' through every unique value within each column and assigns it an integer."
   ],
   "id": "deb3e9afd6f4c6dc"
  },
  {
   "metadata": {
    "ExecuteTime": {
     "end_time": "2025-10-26T20:07:43.066922Z",
     "start_time": "2025-10-26T20:07:43.062771Z"
    }
   },
   "cell_type": "code",
   "source": [
    "numeric_full_data = full_data\n",
    "for col in numeric_full_data.columns:\n",
    "    numeric_full_data[col] = numeric_full_data[col].astype('category').cat.codes"
   ],
   "id": "d697b3b14d232a33",
   "outputs": [],
   "execution_count": 3
  },
  {
   "metadata": {},
   "cell_type": "markdown",
   "source": "Creates the numeric version of the .csv file.",
   "id": "44a0312a71ac3270"
  },
  {
   "metadata": {
    "tags": [
     "dontautorun"
    ],
    "ExecuteTime": {
     "end_time": "2025-10-26T20:07:43.072533Z",
     "start_time": "2025-10-26T20:07:43.069048Z"
    }
   },
   "cell_type": "code",
   "source": "pd.DataFrame.to_csv(numeric_full_data, \"numeric.csv\")",
   "id": "5cf728699099a3b2",
   "outputs": [],
   "execution_count": 4
  },
  {
   "metadata": {},
   "cell_type": "markdown",
   "source": [
    "# Distribution of Credit Class by Personal Status\n",
    "- Count the occurrences of 'good' and 'bad' for each unique entry in the 'personal_status' field.\n",
    "- Group them together for easy displaying.\n",
    "- Plot as a double bar chart."
   ],
   "id": "959c3ca5ab88add2"
  },
  {
   "metadata": {},
   "cell_type": "markdown",
   "source": [
    "## Counts\n",
    "Using the .value_counts() we can calculate the occurrences of each credit class for each unique personal status."
   ],
   "id": "ed230aa34833f495"
  },
  {
   "metadata": {
    "ExecuteTime": {
     "end_time": "2025-10-26T20:07:43.076876Z",
     "start_time": "2025-10-26T20:07:43.074667Z"
    }
   },
   "cell_type": "code",
   "source": [
    "counts_good_personal_status = df[df['class'] == 'good']['personal_status'].value_counts()\n",
    "counts_bad_personal_status = df[df['class'] == 'bad']['personal_status'].value_counts()"
   ],
   "id": "7754fb056de0e961",
   "outputs": [],
   "execution_count": 5
  },
  {
   "metadata": {},
   "cell_type": "markdown",
   "source": [
    "## Data Preperation\n",
    "Plotting is done using a double-bar chart. This way we can more easily and effectively display what is most important. This also acts like a point of comparison between the two credit classes.\n",
    "A width parameter is necessary to avoid bars overlapping with each other on the same x-values."
   ],
   "id": "7af9330ef230ad38"
  },
  {
   "metadata": {},
   "cell_type": "markdown",
   "source": [
    "### Decoration\n",
    "First the actual figure is created along with an axes. Some decoration is created; title, and labels."
   ],
   "id": "f88846748aa9b6c9"
  },
  {
   "metadata": {
    "ExecuteTime": {
     "end_time": "2025-10-26T20:07:43.131214Z",
     "start_time": "2025-10-26T20:07:43.079154Z"
    }
   },
   "cell_type": "code",
   "source": [
    "fig_personal_status, g1 = plt.subplots()\n",
    "g1.set_title(\"Distribution of Credit Class by Personal Status\")\n",
    "g1.set_xlabel(\"Personal Status\")\n",
    "g1.set_ylabel(\"Counts\");\n",
    "\n",
    "# I can't get it to not show the empty graph\n",
    "    # (at least on PyCharm)"
   ],
   "id": "510dfd978d008042",
   "outputs": [
    {
     "data": {
      "text/plain": [
       "<Figure size 640x480 with 1 Axes>"
      ],
      "image/png": "[encoded data removed]"
     },
     "metadata": {},
     "output_type": "display_data",
     "jetTransient": {
      "display_id": null
     }
    }
   ],
   "execution_count": 6
  },
  {
   "metadata": {},
   "cell_type": "markdown",
   "source": [
    "### X-Axis Labels\n",
    "The X-axis labels have to be evenly arranged, for this the .set_xticks() function is used to tell pyplot where to set the x-axis labels.\n",
    "The .unique() pandas function is used to get all the unique saving_status entries. These are then used as x-axis labels from where the bar charts will have their roots."
   ],
   "id": "67268260176c3420"
  },
  {
   "metadata": {
    "ExecuteTime": {
     "end_time": "2025-10-26T20:07:43.136718Z",
     "start_time": "2025-10-26T20:07:43.133993Z"
    }
   },
   "cell_type": "code",
   "source": [
    "statuses = df['personal_status'].unique()\n",
    "x = np.arange(len(statuses))\n",
    "g1.set_xticks(x)\n",
    "g1.set_xticklabels(statuses)"
   ],
   "id": "32828cfd6488af2b",
   "outputs": [
    {
     "data": {
      "text/plain": [
       "[Text(0, 0, '3'), Text(1, 0, '0'), Text(2, 0, '1'), Text(3, 0, '2')]"
      ]
     },
     "execution_count": 7,
     "metadata": {},
     "output_type": "execute_result"
    }
   ],
   "execution_count": 7
  },
  {
   "metadata": {},
   "cell_type": "markdown",
   "source": "## Plotting",
   "id": "462a9747b0a43160"
  },
  {
   "metadata": {
    "ExecuteTime": {
     "end_time": "2025-10-26T20:07:43.422306Z",
     "start_time": "2025-10-26T20:07:43.142932Z"
    }
   },
   "cell_type": "code",
   "source": [
    "# Plotting the finished data.\n",
    "g1.bar(x - bar_width/2, counts_good_personal_status, bar_width, label='Good', color='#06d6a0')\n",
    "g1.bar(x + bar_width/2, counts_bad_personal_status, bar_width, label='Bad', color='#ef476f')\n",
    "g1.legend()\n",
    "\n",
    "fig_personal_status"
   ],
   "id": "dac3a35ad7e0983c",
   "outputs": [
    {
     "ename": "ValueError",
     "evalue": "shape mismatch: objects cannot be broadcast to a single shape.  Mismatch is between arg 0 with shape (4,) and arg 1 with shape (0,).",
     "output_type": "error",
     "traceback": [
      "\u001B[31m---------------------------------------------------------------------------\u001B[39m",
      "\u001B[31mValueError\u001B[39m                                Traceback (most recent call last)",
      "\u001B[36mCell\u001B[39m\u001B[36m \u001B[39m\u001B[32mIn[8]\u001B[39m\u001B[32m, line 2\u001B[39m\n\u001B[32m      1\u001B[39m \u001B[38;5;66;03m# Plotting the finished data.\u001B[39;00m\n\u001B[32m----> \u001B[39m\u001B[32m2\u001B[39m \u001B[43mg1\u001B[49m\u001B[43m.\u001B[49m\u001B[43mbar\u001B[49m\u001B[43m(\u001B[49m\u001B[43mx\u001B[49m\u001B[43m \u001B[49m\u001B[43m-\u001B[49m\u001B[43m \u001B[49m\u001B[43mbar_width\u001B[49m\u001B[43m/\u001B[49m\u001B[32;43m2\u001B[39;49m\u001B[43m,\u001B[49m\u001B[43m \u001B[49m\u001B[43mcounts_good_personal_status\u001B[49m\u001B[43m,\u001B[49m\u001B[43m \u001B[49m\u001B[43mbar_width\u001B[49m\u001B[43m,\u001B[49m\u001B[43m \u001B[49m\u001B[43mlabel\u001B[49m\u001B[43m=\u001B[49m\u001B[33;43m'\u001B[39;49m\u001B[33;43mGood\u001B[39;49m\u001B[33;43m'\u001B[39;49m\u001B[43m,\u001B[49m\u001B[43m \u001B[49m\u001B[43mcolor\u001B[49m\u001B[43m=\u001B[49m\u001B[33;43m'\u001B[39;49m\u001B[33;43m#06d6a0\u001B[39;49m\u001B[33;43m'\u001B[39;49m\u001B[43m)\u001B[49m\n\u001B[32m      3\u001B[39m g1.bar(x + bar_width/\u001B[32m2\u001B[39m, counts_bad_personal_status, bar_width, label=\u001B[33m'\u001B[39m\u001B[33mBad\u001B[39m\u001B[33m'\u001B[39m, color=\u001B[33m'\u001B[39m\u001B[33m#ef476f\u001B[39m\u001B[33m'\u001B[39m)\n\u001B[32m      4\u001B[39m g1.legend()\n",
      "\u001B[36mFile \u001B[39m\u001B[32m~/uni/Year 3/Semester 1/Data Analytics/coursework/.venv/lib/python3.13/site-packages/matplotlib/__init__.py:1524\u001B[39m, in \u001B[36m_preprocess_data.<locals>.inner\u001B[39m\u001B[34m(ax, data, *args, **kwargs)\u001B[39m\n\u001B[32m   1521\u001B[39m \u001B[38;5;129m@functools\u001B[39m.wraps(func)\n\u001B[32m   1522\u001B[39m \u001B[38;5;28;01mdef\u001B[39;00m\u001B[38;5;250m \u001B[39m\u001B[34minner\u001B[39m(ax, *args, data=\u001B[38;5;28;01mNone\u001B[39;00m, **kwargs):\n\u001B[32m   1523\u001B[39m     \u001B[38;5;28;01mif\u001B[39;00m data \u001B[38;5;129;01mis\u001B[39;00m \u001B[38;5;28;01mNone\u001B[39;00m:\n\u001B[32m-> \u001B[39m\u001B[32m1524\u001B[39m         \u001B[38;5;28;01mreturn\u001B[39;00m \u001B[43mfunc\u001B[49m\u001B[43m(\u001B[49m\n\u001B[32m   1525\u001B[39m \u001B[43m            \u001B[49m\u001B[43max\u001B[49m\u001B[43m,\u001B[49m\n\u001B[32m   1526\u001B[39m \u001B[43m            \u001B[49m\u001B[43m*\u001B[49m\u001B[38;5;28;43mmap\u001B[39;49m\u001B[43m(\u001B[49m\u001B[43mcbook\u001B[49m\u001B[43m.\u001B[49m\u001B[43msanitize_sequence\u001B[49m\u001B[43m,\u001B[49m\u001B[43m \u001B[49m\u001B[43margs\u001B[49m\u001B[43m)\u001B[49m\u001B[43m,\u001B[49m\n\u001B[32m   1527\u001B[39m \u001B[43m            \u001B[49m\u001B[43m*\u001B[49m\u001B[43m*\u001B[49m\u001B[43m{\u001B[49m\u001B[43mk\u001B[49m\u001B[43m:\u001B[49m\u001B[43m \u001B[49m\u001B[43mcbook\u001B[49m\u001B[43m.\u001B[49m\u001B[43msanitize_sequence\u001B[49m\u001B[43m(\u001B[49m\u001B[43mv\u001B[49m\u001B[43m)\u001B[49m\u001B[43m \u001B[49m\u001B[38;5;28;43;01mfor\u001B[39;49;00m\u001B[43m \u001B[49m\u001B[43mk\u001B[49m\u001B[43m,\u001B[49m\u001B[43m \u001B[49m\u001B[43mv\u001B[49m\u001B[43m \u001B[49m\u001B[38;5;129;43;01min\u001B[39;49;00m\u001B[43m \u001B[49m\u001B[43mkwargs\u001B[49m\u001B[43m.\u001B[49m\u001B[43mitems\u001B[49m\u001B[43m(\u001B[49m\u001B[43m)\u001B[49m\u001B[43m}\u001B[49m\u001B[43m)\u001B[49m\n\u001B[32m   1529\u001B[39m     bound = new_sig.bind(ax, *args, **kwargs)\n\u001B[32m   1530\u001B[39m     auto_label = (bound.arguments.get(label_namer)\n\u001B[32m   1531\u001B[39m                   \u001B[38;5;129;01mor\u001B[39;00m bound.kwargs.get(label_namer))\n",
      "\u001B[36mFile \u001B[39m\u001B[32m~/uni/Year 3/Semester 1/Data Analytics/coursework/.venv/lib/python3.13/site-packages/matplotlib/axes/_axes.py:2583\u001B[39m, in \u001B[36mAxes.bar\u001B[39m\u001B[34m(self, x, height, width, bottom, align, **kwargs)\u001B[39m\n\u001B[32m   2580\u001B[39m     \u001B[38;5;28;01mif\u001B[39;00m yerr \u001B[38;5;129;01mis\u001B[39;00m \u001B[38;5;129;01mnot\u001B[39;00m \u001B[38;5;28;01mNone\u001B[39;00m:\n\u001B[32m   2581\u001B[39m         yerr = \u001B[38;5;28mself\u001B[39m._convert_dx(yerr, y0, y, \u001B[38;5;28mself\u001B[39m.convert_yunits)\n\u001B[32m-> \u001B[39m\u001B[32m2583\u001B[39m x, height, width, y, linewidth, hatch = \u001B[43mnp\u001B[49m\u001B[43m.\u001B[49m\u001B[43mbroadcast_arrays\u001B[49m\u001B[43m(\u001B[49m\n\u001B[32m   2584\u001B[39m \u001B[43m    \u001B[49m\u001B[38;5;66;43;03m# Make args iterable too.\u001B[39;49;00m\n\u001B[32m   2585\u001B[39m \u001B[43m    \u001B[49m\u001B[43mnp\u001B[49m\u001B[43m.\u001B[49m\u001B[43matleast_1d\u001B[49m\u001B[43m(\u001B[49m\u001B[43mx\u001B[49m\u001B[43m)\u001B[49m\u001B[43m,\u001B[49m\u001B[43m \u001B[49m\u001B[43mheight\u001B[49m\u001B[43m,\u001B[49m\u001B[43m \u001B[49m\u001B[43mwidth\u001B[49m\u001B[43m,\u001B[49m\u001B[43m \u001B[49m\u001B[43my\u001B[49m\u001B[43m,\u001B[49m\u001B[43m \u001B[49m\u001B[43mlinewidth\u001B[49m\u001B[43m,\u001B[49m\u001B[43m \u001B[49m\u001B[43mhatch\u001B[49m\u001B[43m)\u001B[49m\n\u001B[32m   2587\u001B[39m \u001B[38;5;66;03m# Now that units have been converted, set the tick locations.\u001B[39;00m\n\u001B[32m   2588\u001B[39m \u001B[38;5;28;01mif\u001B[39;00m orientation == \u001B[33m'\u001B[39m\u001B[33mvertical\u001B[39m\u001B[33m'\u001B[39m:\n",
      "\u001B[36mFile \u001B[39m\u001B[32m~/uni/Year 3/Semester 1/Data Analytics/coursework/.venv/lib/python3.13/site-packages/numpy/lib/_stride_tricks_impl.py:544\u001B[39m, in \u001B[36mbroadcast_arrays\u001B[39m\u001B[34m(subok, *args)\u001B[39m\n\u001B[32m    537\u001B[39m \u001B[38;5;66;03m# nditer is not used here to avoid the limit of 32 arrays.\u001B[39;00m\n\u001B[32m    538\u001B[39m \u001B[38;5;66;03m# Otherwise, something like the following one-liner would suffice:\u001B[39;00m\n\u001B[32m    539\u001B[39m \u001B[38;5;66;03m# return np.nditer(args, flags=['multi_index', 'zerosize_ok'],\u001B[39;00m\n\u001B[32m    540\u001B[39m \u001B[38;5;66;03m#                  order='C').itviews\u001B[39;00m\n\u001B[32m    542\u001B[39m args = [np.array(_m, copy=\u001B[38;5;28;01mNone\u001B[39;00m, subok=subok) \u001B[38;5;28;01mfor\u001B[39;00m _m \u001B[38;5;129;01min\u001B[39;00m args]\n\u001B[32m--> \u001B[39m\u001B[32m544\u001B[39m shape = \u001B[43m_broadcast_shape\u001B[49m\u001B[43m(\u001B[49m\u001B[43m*\u001B[49m\u001B[43margs\u001B[49m\u001B[43m)\u001B[49m\n\u001B[32m    546\u001B[39m result = [array \u001B[38;5;28;01mif\u001B[39;00m array.shape == shape\n\u001B[32m    547\u001B[39m           \u001B[38;5;28;01melse\u001B[39;00m _broadcast_to(array, shape, subok=subok, readonly=\u001B[38;5;28;01mFalse\u001B[39;00m)\n\u001B[32m    548\u001B[39m                           \u001B[38;5;28;01mfor\u001B[39;00m array \u001B[38;5;129;01min\u001B[39;00m args]\n\u001B[32m    549\u001B[39m \u001B[38;5;28;01mreturn\u001B[39;00m \u001B[38;5;28mtuple\u001B[39m(result)\n",
      "\u001B[36mFile \u001B[39m\u001B[32m~/uni/Year 3/Semester 1/Data Analytics/coursework/.venv/lib/python3.13/site-packages/numpy/lib/_stride_tricks_impl.py:419\u001B[39m, in \u001B[36m_broadcast_shape\u001B[39m\u001B[34m(*args)\u001B[39m\n\u001B[32m    414\u001B[39m \u001B[38;5;250m\u001B[39m\u001B[33;03m\"\"\"Returns the shape of the arrays that would result from broadcasting the\u001B[39;00m\n\u001B[32m    415\u001B[39m \u001B[33;03msupplied arrays against each other.\u001B[39;00m\n\u001B[32m    416\u001B[39m \u001B[33;03m\"\"\"\u001B[39;00m\n\u001B[32m    417\u001B[39m \u001B[38;5;66;03m# use the old-iterator because np.nditer does not handle size 0 arrays\u001B[39;00m\n\u001B[32m    418\u001B[39m \u001B[38;5;66;03m# consistently\u001B[39;00m\n\u001B[32m--> \u001B[39m\u001B[32m419\u001B[39m b = \u001B[43mnp\u001B[49m\u001B[43m.\u001B[49m\u001B[43mbroadcast\u001B[49m\u001B[43m(\u001B[49m\u001B[43m*\u001B[49m\u001B[43margs\u001B[49m\u001B[43m[\u001B[49m\u001B[43m:\u001B[49m\u001B[32;43m32\u001B[39;49m\u001B[43m]\u001B[49m\u001B[43m)\u001B[49m\n\u001B[32m    420\u001B[39m \u001B[38;5;66;03m# unfortunately, it cannot handle 32 or more arguments directly\u001B[39;00m\n\u001B[32m    421\u001B[39m \u001B[38;5;28;01mfor\u001B[39;00m pos \u001B[38;5;129;01min\u001B[39;00m \u001B[38;5;28mrange\u001B[39m(\u001B[32m32\u001B[39m, \u001B[38;5;28mlen\u001B[39m(args), \u001B[32m31\u001B[39m):\n\u001B[32m    422\u001B[39m     \u001B[38;5;66;03m# ironically, np.broadcast does not properly handle np.broadcast\u001B[39;00m\n\u001B[32m    423\u001B[39m     \u001B[38;5;66;03m# objects (it treats them as scalars)\u001B[39;00m\n\u001B[32m    424\u001B[39m     \u001B[38;5;66;03m# use broadcasting to avoid allocating the full array\u001B[39;00m\n",
      "\u001B[31mValueError\u001B[39m: shape mismatch: objects cannot be broadcast to a single shape.  Mismatch is between arg 0 with shape (4,) and arg 1 with shape (0,)."
     ]
    }
   ],
   "execution_count": 8
  },
  {
   "metadata": {},
   "cell_type": "markdown",
   "source": [
    "# Distribution of Credit Class by Saving Status\n",
    "- Count the occurrences of 'good' and 'bad' for each unique entry in the 'saving_status' field.\n",
    "- Group them together for easy displaying.\n",
    "- Plot as a double bar chart.\n",
    "- *(this is the same as the task above just with a different field)*."
   ],
   "id": "c4c2f50fec4f5a6a"
  },
  {
   "metadata": {},
   "cell_type": "markdown",
   "source": [
    "## Counting\n",
    "Counting is done the same way as the chart above."
   ],
   "id": "4929a3c0e5de6098"
  },
  {
   "metadata": {},
   "cell_type": "code",
   "source": [
    "# Counting\n",
    "counts_good_saving_status = df[df['class'] == 'good']['saving_status'].value_counts()\n",
    "counts_bad_saving_status = df[df['class'] == 'bad']['saving_status'].value_counts()"
   ],
   "id": "78ce7e785bc8d3ec",
   "outputs": [],
   "execution_count": null
  },
  {
   "metadata": {},
   "cell_type": "markdown",
   "source": "## Data Preperation",
   "id": "77dab6b85c1cf47b"
  },
  {
   "metadata": {},
   "cell_type": "markdown",
   "source": [
    "### Decoration\n",
    "First the actual figure is created along with an axes. Some decoration is created; title, and labels."
   ],
   "id": "5ce540e54fa1aa13"
  },
  {
   "metadata": {},
   "cell_type": "code",
   "source": [
    "fig_saving_status, g2 = plt.subplots()\n",
    "g2.set_title(\"Distribution of Credit Class by Saving Status\")\n",
    "g2.set_xlabel(\"Saving Status\")\n",
    "g2.set_ylabel(\"Counts\")"
   ],
   "id": "e820dd481c3164e7",
   "outputs": [],
   "execution_count": null
  },
  {
   "metadata": {},
   "cell_type": "markdown",
   "source": [
    "### X-Axis Labels\n",
    "The X-axis labels have to be evenly arranged, for this the .set_xticks() function is used to tell pyplot where to set the x-axis labels.\n",
    "The .unique() pandas function is used to get all the unique saving_status entries. These are then used as x-axis labels from where the bar charts will have their roots."
   ],
   "id": "d07ba182b2db9fb1"
  },
  {
   "metadata": {},
   "cell_type": "code",
   "source": [
    "statuses = df['saving_status'].unique()\n",
    "x = np.arange(len(statuses))\n",
    "g2.set_xticks(x)\n",
    "g2.set_xticklabels(statuses)"
   ],
   "id": "7367b077563148a9",
   "outputs": [],
   "execution_count": null
  },
  {
   "metadata": {},
   "cell_type": "markdown",
   "source": "## Plotting",
   "id": "afecf4a6eb30b59b"
  },
  {
   "metadata": {},
   "cell_type": "code",
   "source": [
    "# Plotting here.\n",
    "g2.bar(x - bar_width/2, counts_good_saving_status, bar_width, label='Good', color='#06d6a0')\n",
    "g2.bar(x + bar_width/2, counts_bad_saving_status, bar_width, label='Bad', color='#ef476f')\n",
    "g2.legend()\n",
    "\n",
    "fig_saving_status"
   ],
   "id": "33a62edb58c822a5",
   "outputs": [],
   "execution_count": null
  }
 ],
 "metadata": {
  "kernelspec": {
   "display_name": "Python 3",
   "language": "python",
   "name": "python3"
  },
  "language_info": {
   "codemirror_mode": {
    "name": "ipython",
    "version": 2
   },
   "file_extension": ".py",
   "mimetype": "text/x-python",
   "name": "python",
   "nbconvert_exporter": "python",
   "pygments_lexer": "ipython2",
   "version": "2.7.6"
  }
 },
 "nbformat": 4,
 "nbformat_minor": 5
}
