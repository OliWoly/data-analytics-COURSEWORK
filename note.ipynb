{
 "cells": [
  {
   "metadata": {},
   "cell_type": "markdown",
   "source": [
    "# Data Analytics Coursework\n",
    "**Oliwier Kulczycki**"
   ],
   "id": "a0165f7457591613"
  },
  {
   "metadata": {},
   "cell_type": "markdown",
   "source": "# Setup",
   "id": "cafaf42314c96a0c"
  },
  {
   "cell_type": "code",
   "id": "initial_id",
   "metadata": {
    "collapsed": true,
    "ExecuteTime": {
     "end_time": "2025-10-26T23:53:00.522468Z",
     "start_time": "2025-10-26T23:53:00.517948Z"
    }
   },
   "source": [
    "from matplotlib import pyplot as plt\n",
    "import pandas as pd\n",
    "import numpy as np\n",
    "from scipy.io import arff"
   ],
   "outputs": [],
   "execution_count": 20
  },
  {
   "metadata": {
    "ExecuteTime": {
     "end_time": "2025-10-26T23:53:00.540818Z",
     "start_time": "2025-10-26T23:53:00.536497Z"
    }
   },
   "cell_type": "code",
   "source": [
    "path_full = \"credits-clean.csv\"\n",
    "df = pd.read_csv(path_full)\n",
    "\n",
    "bar_width = 0.25"
   ],
   "id": "4320f0e971405a93",
   "outputs": [],
   "execution_count": 21
  },
  {
   "metadata": {},
   "cell_type": "markdown",
   "source": "Show the original dataframe for reference.",
   "id": "c15d53d584d65344"
  },
  {
   "metadata": {
    "ExecuteTime": {
     "end_time": "2025-10-26T23:53:00.551761Z",
     "start_time": "2025-10-26T23:53:00.546930Z"
    }
   },
   "cell_type": "code",
   "source": "df",
   "id": "7380102823562016",
   "outputs": [
    {
     "data": {
      "text/plain": [
       "     Case_no checking_status                  credit_history  \\\n",
       "0          1              <0  critical/other existing credit   \n",
       "1          2        0<=X<200                   existing paid   \n",
       "2          3     no checking  critical/other existing credit   \n",
       "3          4              <0                   existing paid   \n",
       "4          5              <0              delayed previously   \n",
       "..       ...             ...                             ...   \n",
       "995      996     no checking                   existing paid   \n",
       "996      997              <0                   existing paid   \n",
       "997      998     no checking                   existing paid   \n",
       "998      999              <0                   existing paid   \n",
       "999     1000        0<=X<200  critical/other existing credit   \n",
       "\n",
       "                 purpose  credit_amount     saving_status     personal_status  \\\n",
       "0               radio/tv           1169  no known savings         male single   \n",
       "1               radio/tv           5951              <100  female div/dep/mar   \n",
       "2              education           2096              <100         male single   \n",
       "3    furniture/equipment           7882              <100         male single   \n",
       "4                new car           4870              <100         male single   \n",
       "..                   ...            ...               ...                 ...   \n",
       "995  furniture/equipment           1736              <100  female div/dep/mar   \n",
       "996             used car           3857              <100        male div/sep   \n",
       "997             radio/tv            804              <100         male single   \n",
       "998             radio/tv           1845              <100         male single   \n",
       "999             used car           4576        100<=X<500         male single   \n",
       "\n",
       "     age                        job class  \n",
       "0     67                    skilled  good  \n",
       "1     22                    skilled   bad  \n",
       "2     49         unskilled resident  good  \n",
       "3     45                    skilled  good  \n",
       "4     53                    skilled   bad  \n",
       "..   ...                        ...   ...  \n",
       "995   31         unskilled resident  good  \n",
       "996   40  high qualif/self emp/mgmt  good  \n",
       "997   38                    skilled  good  \n",
       "998   23                    skilled   bad  \n",
       "999   27                    skilled  good  \n",
       "\n",
       "[1000 rows x 10 columns]"
      ],
      "text/html": [
       "<div>\n",
       "<style scoped>\n",
       "    .dataframe tbody tr th:only-of-type {\n",
       "        vertical-align: middle;\n",
       "    }\n",
       "\n",
       "    .dataframe tbody tr th {\n",
       "        vertical-align: top;\n",
       "    }\n",
       "\n",
       "    .dataframe thead th {\n",
       "        text-align: right;\n",
       "    }\n",
       "</style>\n",
       "<table border=\"1\" class=\"dataframe\">\n",
       "  <thead>\n",
       "    <tr style=\"text-align: right;\">\n",
       "      <th></th>\n",
       "      <th>Case_no</th>\n",
       "      <th>checking_status</th>\n",
       "      <th>credit_history</th>\n",
       "      <th>purpose</th>\n",
       "      <th>credit_amount</th>\n",
       "      <th>saving_status</th>\n",
       "      <th>personal_status</th>\n",
       "      <th>age</th>\n",
       "      <th>job</th>\n",
       "      <th>class</th>\n",
       "    </tr>\n",
       "  </thead>\n",
       "  <tbody>\n",
       "    <tr>\n",
       "      <th>0</th>\n",
       "      <td>1</td>\n",
       "      <td>&lt;0</td>\n",
       "      <td>critical/other existing credit</td>\n",
       "      <td>radio/tv</td>\n",
       "      <td>1169</td>\n",
       "      <td>no known savings</td>\n",
       "      <td>male single</td>\n",
       "      <td>67</td>\n",
       "      <td>skilled</td>\n",
       "      <td>good</td>\n",
       "    </tr>\n",
       "    <tr>\n",
       "      <th>1</th>\n",
       "      <td>2</td>\n",
       "      <td>0&lt;=X&lt;200</td>\n",
       "      <td>existing paid</td>\n",
       "      <td>radio/tv</td>\n",
       "      <td>5951</td>\n",
       "      <td>&lt;100</td>\n",
       "      <td>female div/dep/mar</td>\n",
       "      <td>22</td>\n",
       "      <td>skilled</td>\n",
       "      <td>bad</td>\n",
       "    </tr>\n",
       "    <tr>\n",
       "      <th>2</th>\n",
       "      <td>3</td>\n",
       "      <td>no checking</td>\n",
       "      <td>critical/other existing credit</td>\n",
       "      <td>education</td>\n",
       "      <td>2096</td>\n",
       "      <td>&lt;100</td>\n",
       "      <td>male single</td>\n",
       "      <td>49</td>\n",
       "      <td>unskilled resident</td>\n",
       "      <td>good</td>\n",
       "    </tr>\n",
       "    <tr>\n",
       "      <th>3</th>\n",
       "      <td>4</td>\n",
       "      <td>&lt;0</td>\n",
       "      <td>existing paid</td>\n",
       "      <td>furniture/equipment</td>\n",
       "      <td>7882</td>\n",
       "      <td>&lt;100</td>\n",
       "      <td>male single</td>\n",
       "      <td>45</td>\n",
       "      <td>skilled</td>\n",
       "      <td>good</td>\n",
       "    </tr>\n",
       "    <tr>\n",
       "      <th>4</th>\n",
       "      <td>5</td>\n",
       "      <td>&lt;0</td>\n",
       "      <td>delayed previously</td>\n",
       "      <td>new car</td>\n",
       "      <td>4870</td>\n",
       "      <td>&lt;100</td>\n",
       "      <td>male single</td>\n",
       "      <td>53</td>\n",
       "      <td>skilled</td>\n",
       "      <td>bad</td>\n",
       "    </tr>\n",
       "    <tr>\n",
       "      <th>...</th>\n",
       "      <td>...</td>\n",
       "      <td>...</td>\n",
       "      <td>...</td>\n",
       "      <td>...</td>\n",
       "      <td>...</td>\n",
       "      <td>...</td>\n",
       "      <td>...</td>\n",
       "      <td>...</td>\n",
       "      <td>...</td>\n",
       "      <td>...</td>\n",
       "    </tr>\n",
       "    <tr>\n",
       "      <th>995</th>\n",
       "      <td>996</td>\n",
       "      <td>no checking</td>\n",
       "      <td>existing paid</td>\n",
       "      <td>furniture/equipment</td>\n",
       "      <td>1736</td>\n",
       "      <td>&lt;100</td>\n",
       "      <td>female div/dep/mar</td>\n",
       "      <td>31</td>\n",
       "      <td>unskilled resident</td>\n",
       "      <td>good</td>\n",
       "    </tr>\n",
       "    <tr>\n",
       "      <th>996</th>\n",
       "      <td>997</td>\n",
       "      <td>&lt;0</td>\n",
       "      <td>existing paid</td>\n",
       "      <td>used car</td>\n",
       "      <td>3857</td>\n",
       "      <td>&lt;100</td>\n",
       "      <td>male div/sep</td>\n",
       "      <td>40</td>\n",
       "      <td>high qualif/self emp/mgmt</td>\n",
       "      <td>good</td>\n",
       "    </tr>\n",
       "    <tr>\n",
       "      <th>997</th>\n",
       "      <td>998</td>\n",
       "      <td>no checking</td>\n",
       "      <td>existing paid</td>\n",
       "      <td>radio/tv</td>\n",
       "      <td>804</td>\n",
       "      <td>&lt;100</td>\n",
       "      <td>male single</td>\n",
       "      <td>38</td>\n",
       "      <td>skilled</td>\n",
       "      <td>good</td>\n",
       "    </tr>\n",
       "    <tr>\n",
       "      <th>998</th>\n",
       "      <td>999</td>\n",
       "      <td>&lt;0</td>\n",
       "      <td>existing paid</td>\n",
       "      <td>radio/tv</td>\n",
       "      <td>1845</td>\n",
       "      <td>&lt;100</td>\n",
       "      <td>male single</td>\n",
       "      <td>23</td>\n",
       "      <td>skilled</td>\n",
       "      <td>bad</td>\n",
       "    </tr>\n",
       "    <tr>\n",
       "      <th>999</th>\n",
       "      <td>1000</td>\n",
       "      <td>0&lt;=X&lt;200</td>\n",
       "      <td>critical/other existing credit</td>\n",
       "      <td>used car</td>\n",
       "      <td>4576</td>\n",
       "      <td>100&lt;=X&lt;500</td>\n",
       "      <td>male single</td>\n",
       "      <td>27</td>\n",
       "      <td>skilled</td>\n",
       "      <td>good</td>\n",
       "    </tr>\n",
       "  </tbody>\n",
       "</table>\n",
       "<p>1000 rows × 10 columns</p>\n",
       "</div>"
      ]
     },
     "execution_count": 22,
     "metadata": {},
     "output_type": "execute_result"
    }
   ],
   "execution_count": 22
  },
  {
   "metadata": {},
   "cell_type": "markdown",
   "source": "***",
   "id": "78fe33dcf4be99ae"
  },
  {
   "metadata": {},
   "cell_type": "markdown",
   "source": [
    "# Dataset Versions\n",
    "*(Nominal and Numeric Conversions)*"
   ],
   "id": "d72a8812cda322bc"
  },
  {
   "metadata": {},
   "cell_type": "markdown",
   "source": [
    "## Converting to numeric\n",
    "For this task, I decided to use a method which 'enumrates' through every unique value within each column and assigns it an integer."
   ],
   "id": "deb3e9afd6f4c6dc"
  },
  {
   "metadata": {
    "ExecuteTime": {
     "end_time": "2025-10-26T23:53:00.563771Z",
     "start_time": "2025-10-26T23:53:00.561470Z"
    }
   },
   "cell_type": "code",
   "source": [
    "# Have to create a copy of the dataframe using df.copy(),\n",
    "# otherwise the variable df_numeric would just end up pointing to df, instead of being separate.\n",
    "# This messed me up for a while as the rest of the program wouldn't work.\n",
    "df_numeric = df.copy()"
   ],
   "id": "f394d81c0e7ea6b8",
   "outputs": [],
   "execution_count": 23
  },
  {
   "metadata": {
    "ExecuteTime": {
     "end_time": "2025-10-26T23:53:00.576357Z",
     "start_time": "2025-10-26T23:53:00.568231Z"
    }
   },
   "cell_type": "code",
   "source": [
    "# Go through each column.\n",
    "for col in df_numeric.columns:\n",
    "    # Avoid the already numeric fields.\n",
    "    if col == 'Case_no' or col == 'credit_amount' or col == 'age':\n",
    "        continue\n",
    "    df_numeric[col] = df_numeric[col].astype('category').cat.codes\n",
    "\n",
    "# Show the work done.\n",
    "df_numeric"
   ],
   "id": "d697b3b14d232a33",
   "outputs": [
    {
     "data": {
      "text/plain": [
       "     Case_no  checking_status  credit_history  purpose  credit_amount  \\\n",
       "0          1                1               1        6           1169   \n",
       "1          2                0               3        6           5951   \n",
       "2          3                3               1        2           2096   \n",
       "3          4                1               3        3           7882   \n",
       "4          5                1               2        4           4870   \n",
       "..       ...              ...             ...      ...            ...   \n",
       "995      996                3               3        3           1736   \n",
       "996      997                1               3        9           3857   \n",
       "997      998                3               3        6            804   \n",
       "998      999                1               3        6           1845   \n",
       "999     1000                0               1        9           4576   \n",
       "\n",
       "     saving_status  personal_status  age  job  class  \n",
       "0                4                3   67    1      1  \n",
       "1                2                0   22    1      0  \n",
       "2                2                3   49    3      1  \n",
       "3                2                3   45    1      1  \n",
       "4                2                3   53    1      0  \n",
       "..             ...              ...  ...  ...    ...  \n",
       "995              2                0   31    3      1  \n",
       "996              2                1   40    0      1  \n",
       "997              2                3   38    1      1  \n",
       "998              2                3   23    1      0  \n",
       "999              0                3   27    1      1  \n",
       "\n",
       "[1000 rows x 10 columns]"
      ],
      "text/html": [
       "<div>\n",
       "<style scoped>\n",
       "    .dataframe tbody tr th:only-of-type {\n",
       "        vertical-align: middle;\n",
       "    }\n",
       "\n",
       "    .dataframe tbody tr th {\n",
       "        vertical-align: top;\n",
       "    }\n",
       "\n",
       "    .dataframe thead th {\n",
       "        text-align: right;\n",
       "    }\n",
       "</style>\n",
       "<table border=\"1\" class=\"dataframe\">\n",
       "  <thead>\n",
       "    <tr style=\"text-align: right;\">\n",
       "      <th></th>\n",
       "      <th>Case_no</th>\n",
       "      <th>checking_status</th>\n",
       "      <th>credit_history</th>\n",
       "      <th>purpose</th>\n",
       "      <th>credit_amount</th>\n",
       "      <th>saving_status</th>\n",
       "      <th>personal_status</th>\n",
       "      <th>age</th>\n",
       "      <th>job</th>\n",
       "      <th>class</th>\n",
       "    </tr>\n",
       "  </thead>\n",
       "  <tbody>\n",
       "    <tr>\n",
       "      <th>0</th>\n",
       "      <td>1</td>\n",
       "      <td>1</td>\n",
       "      <td>1</td>\n",
       "      <td>6</td>\n",
       "      <td>1169</td>\n",
       "      <td>4</td>\n",
       "      <td>3</td>\n",
       "      <td>67</td>\n",
       "      <td>1</td>\n",
       "      <td>1</td>\n",
       "    </tr>\n",
       "    <tr>\n",
       "      <th>1</th>\n",
       "      <td>2</td>\n",
       "      <td>0</td>\n",
       "      <td>3</td>\n",
       "      <td>6</td>\n",
       "      <td>5951</td>\n",
       "      <td>2</td>\n",
       "      <td>0</td>\n",
       "      <td>22</td>\n",
       "      <td>1</td>\n",
       "      <td>0</td>\n",
       "    </tr>\n",
       "    <tr>\n",
       "      <th>2</th>\n",
       "      <td>3</td>\n",
       "      <td>3</td>\n",
       "      <td>1</td>\n",
       "      <td>2</td>\n",
       "      <td>2096</td>\n",
       "      <td>2</td>\n",
       "      <td>3</td>\n",
       "      <td>49</td>\n",
       "      <td>3</td>\n",
       "      <td>1</td>\n",
       "    </tr>\n",
       "    <tr>\n",
       "      <th>3</th>\n",
       "      <td>4</td>\n",
       "      <td>1</td>\n",
       "      <td>3</td>\n",
       "      <td>3</td>\n",
       "      <td>7882</td>\n",
       "      <td>2</td>\n",
       "      <td>3</td>\n",
       "      <td>45</td>\n",
       "      <td>1</td>\n",
       "      <td>1</td>\n",
       "    </tr>\n",
       "    <tr>\n",
       "      <th>4</th>\n",
       "      <td>5</td>\n",
       "      <td>1</td>\n",
       "      <td>2</td>\n",
       "      <td>4</td>\n",
       "      <td>4870</td>\n",
       "      <td>2</td>\n",
       "      <td>3</td>\n",
       "      <td>53</td>\n",
       "      <td>1</td>\n",
       "      <td>0</td>\n",
       "    </tr>\n",
       "    <tr>\n",
       "      <th>...</th>\n",
       "      <td>...</td>\n",
       "      <td>...</td>\n",
       "      <td>...</td>\n",
       "      <td>...</td>\n",
       "      <td>...</td>\n",
       "      <td>...</td>\n",
       "      <td>...</td>\n",
       "      <td>...</td>\n",
       "      <td>...</td>\n",
       "      <td>...</td>\n",
       "    </tr>\n",
       "    <tr>\n",
       "      <th>995</th>\n",
       "      <td>996</td>\n",
       "      <td>3</td>\n",
       "      <td>3</td>\n",
       "      <td>3</td>\n",
       "      <td>1736</td>\n",
       "      <td>2</td>\n",
       "      <td>0</td>\n",
       "      <td>31</td>\n",
       "      <td>3</td>\n",
       "      <td>1</td>\n",
       "    </tr>\n",
       "    <tr>\n",
       "      <th>996</th>\n",
       "      <td>997</td>\n",
       "      <td>1</td>\n",
       "      <td>3</td>\n",
       "      <td>9</td>\n",
       "      <td>3857</td>\n",
       "      <td>2</td>\n",
       "      <td>1</td>\n",
       "      <td>40</td>\n",
       "      <td>0</td>\n",
       "      <td>1</td>\n",
       "    </tr>\n",
       "    <tr>\n",
       "      <th>997</th>\n",
       "      <td>998</td>\n",
       "      <td>3</td>\n",
       "      <td>3</td>\n",
       "      <td>6</td>\n",
       "      <td>804</td>\n",
       "      <td>2</td>\n",
       "      <td>3</td>\n",
       "      <td>38</td>\n",
       "      <td>1</td>\n",
       "      <td>1</td>\n",
       "    </tr>\n",
       "    <tr>\n",
       "      <th>998</th>\n",
       "      <td>999</td>\n",
       "      <td>1</td>\n",
       "      <td>3</td>\n",
       "      <td>6</td>\n",
       "      <td>1845</td>\n",
       "      <td>2</td>\n",
       "      <td>3</td>\n",
       "      <td>23</td>\n",
       "      <td>1</td>\n",
       "      <td>0</td>\n",
       "    </tr>\n",
       "    <tr>\n",
       "      <th>999</th>\n",
       "      <td>1000</td>\n",
       "      <td>0</td>\n",
       "      <td>1</td>\n",
       "      <td>9</td>\n",
       "      <td>4576</td>\n",
       "      <td>0</td>\n",
       "      <td>3</td>\n",
       "      <td>27</td>\n",
       "      <td>1</td>\n",
       "      <td>1</td>\n",
       "    </tr>\n",
       "  </tbody>\n",
       "</table>\n",
       "<p>1000 rows × 10 columns</p>\n",
       "</div>"
      ]
     },
     "execution_count": 24,
     "metadata": {},
     "output_type": "execute_result"
    }
   ],
   "execution_count": 24
  },
  {
   "metadata": {
    "ExecuteTime": {
     "end_time": "2025-10-26T23:53:00.587967Z",
     "start_time": "2025-10-26T23:53:00.583608Z"
    }
   },
   "cell_type": "code",
   "source": [
    "for col in df_numeric.columns:\n",
    "    if col == 'Case_no' or col == 'credit_amount' or col == 'age':\n",
    "        continue\n",
    "    categories = df[col].astype('category').cat.categories\n",
    "    codes = list(range(len(categories)))\n",
    "    mapping = dict(zip(codes, categories))\n",
    "    print(f\"{col} mapping:\", mapping)"
   ],
   "id": "8fff1d0f655f809c",
   "outputs": [
    {
     "name": "stdout",
     "output_type": "stream",
     "text": [
      "checking_status mapping: {0: '0<=X<200', 1: '<0', 2: '>=200', 3: 'no checking'}\n",
      "credit_history mapping: {0: 'all paid', 1: 'critical/other existing credit', 2: 'delayed previously', 3: 'existing paid', 4: 'no credits/all paid'}\n",
      "purpose mapping: {0: 'business', 1: 'domestic appliance', 2: 'education', 3: 'furniture/equipment', 4: 'new car', 5: 'other', 6: 'radio/tv', 7: 'repairs', 8: 'retraining', 9: 'used car'}\n",
      "saving_status mapping: {0: '100<=X<500', 1: '500<=X<1000', 2: '<100', 3: '>=1000', 4: 'no known savings'}\n",
      "personal_status mapping: {0: 'female div/dep/mar', 1: 'male div/sep', 2: 'male mar/wid', 3: 'male single'}\n",
      "job mapping: {0: 'high qualif/self emp/mgmt', 1: 'skilled', 2: 'unemp/unskilled non res', 3: 'unskilled resident'}\n",
      "class mapping: {0: 'bad', 1: 'good'}\n"
     ]
    }
   ],
   "execution_count": 25
  },
  {
   "metadata": {},
   "cell_type": "markdown",
   "source": "Creates the numeric version of the .csv file.",
   "id": "44a0312a71ac3270"
  },
  {
   "metadata": {
    "tags": [
     "dontautorun"
    ],
    "ExecuteTime": {
     "end_time": "2025-10-26T23:53:00.599179Z",
     "start_time": "2025-10-26T23:53:00.593585Z"
    }
   },
   "cell_type": "code",
   "source": [
    "# Have to include 'index=False'.\n",
    "pd.DataFrame.to_csv(df_numeric, \"credits-clean-numeric(indexed).csv\", index=True) # bad\n",
    "pd.DataFrame.to_csv(df_numeric, \"credits-clean-numeric.csv\", index=False)"
   ],
   "id": "5cf728699099a3b2",
   "outputs": [],
   "execution_count": 26
  },
  {
   "metadata": {},
   "cell_type": "markdown",
   "source": [
    "## Converting to nominal\n",
    "Grouping numeric values into a text representation."
   ],
   "id": "cb46c3fb70c7fa27"
  },
  {
   "metadata": {
    "ExecuteTime": {
     "end_time": "2025-10-26T23:53:00.606337Z",
     "start_time": "2025-10-26T23:53:00.604301Z"
    }
   },
   "cell_type": "code",
   "source": "df_nominal = df.copy()",
   "id": "9f8062aea3d8c1b0",
   "outputs": [],
   "execution_count": 27
  },
  {
   "metadata": {},
   "cell_type": "markdown",
   "source": "Casting the Case_no to string. There is no good string representation of these as these are indexes.",
   "id": "a22c73495bd9627"
  },
  {
   "metadata": {
    "ExecuteTime": {
     "end_time": "2025-10-26T23:53:00.613696Z",
     "start_time": "2025-10-26T23:53:00.610992Z"
    }
   },
   "cell_type": "code",
   "source": [
    "# Show type of attribute before any changes are made.\n",
    "print(\"Type pre:\", df_nominal['Case_no'].dtype)\n",
    "\n",
    "# Casting the type to string.\n",
    "df_nominal['Case_no'] = df['Case_no'].astype(str)\n",
    "\n",
    "# Display and prove change of type.\n",
    "print(\"Type post:\", df_nominal['Case_no'].dtype)\n",
    "# Output should come out as simply 'object'"
   ],
   "id": "eb50847402159eb5",
   "outputs": [
    {
     "name": "stdout",
     "output_type": "stream",
     "text": [
      "Type pre: int64\n",
      "Type post: object\n"
     ]
    }
   ],
   "execution_count": 28
  },
  {
   "metadata": {},
   "cell_type": "markdown",
   "source": "Deciding the ranges for each label.",
   "id": "3e04f73eea2c2dbe"
  },
  {
   "metadata": {
    "ExecuteTime": {
     "end_time": "2025-10-26T23:53:00.628716Z",
     "start_time": "2025-10-26T23:53:00.626323Z"
    }
   },
   "cell_type": "code",
   "source": [
    "# Bins for the 'age' attribute.\n",
    "bins_age = [0, 18, 30, 60, 80]\n",
    "labels_age = [\"child\", \"young-adult\", \"adult\", \"elderly\"]\n",
    "\n",
    "# Bins for the 'credit_amount' attribute.\n",
    "bins_credit_amount = [0, 500, 1000, 2000, 5000, 10000, 100000]\n",
    "labels_credit_amount = [\"very-low\", \"low\", \"moderate\", \"high\", \"really-high\", \"exceptional\"]"
   ],
   "id": "18128514c3b5c274",
   "outputs": [],
   "execution_count": 29
  },
  {
   "metadata": {},
   "cell_type": "markdown",
   "source": "Applying the value bins.",
   "id": "b9f411111b2ffb18"
  },
  {
   "metadata": {
    "ExecuteTime": {
     "end_time": "2025-10-26T23:53:00.640143Z",
     "start_time": "2025-10-26T23:53:00.635463Z"
    }
   },
   "cell_type": "code",
   "source": [
    "# Use the pd.cut() as per the documentation.\n",
    "# This is a tool already made for binning and classification.\n",
    "df_nominal['age'] = pd.cut(df_nominal['age'], bins=bins_age, labels=labels_age)\n",
    "df_nominal['credit_amount'] = pd.cut(df_nominal['credit_amount'], bins=bins_credit_amount, labels=labels_credit_amount)\n",
    "\n",
    "# Show work done.\n",
    "print(df_nominal['credit_amount'].value_counts())\n",
    "print(df_nominal['age'].value_counts())"
   ],
   "id": "8d778686fdf6bc58",
   "outputs": [
    {
     "name": "stdout",
     "output_type": "stream",
     "text": [
      "credit_amount\n",
      "high           377\n",
      "moderate       312\n",
      "really-high    147\n",
      "low             97\n",
      "exceptional     47\n",
      "very-low        20\n",
      "Name: count, dtype: int64\n",
      "age\n",
      "adult          544\n",
      "young-adult    411\n",
      "elderly         45\n",
      "child            0\n",
      "Name: count, dtype: int64\n"
     ]
    }
   ],
   "execution_count": 30
  },
  {
   "metadata": {},
   "cell_type": "markdown",
   "source": "Save the file",
   "id": "70f88338812c7b46"
  },
  {
   "metadata": {
    "ExecuteTime": {
     "end_time": "2025-10-26T23:53:00.652869Z",
     "start_time": "2025-10-26T23:53:00.647791Z"
    }
   },
   "cell_type": "code",
   "source": "pd.DataFrame.to_csv(df_nominal, \"credits-clean-nominal.csv\", index=False)",
   "id": "7b8a50383d3be3c7",
   "outputs": [],
   "execution_count": 31
  },
  {
   "metadata": {},
   "cell_type": "markdown",
   "source": "***",
   "id": "50075bdd8a4d3d7a"
  },
  {
   "metadata": {},
   "cell_type": "markdown",
   "source": [
    "# Data visualisation\n",
    "Using pyplot."
   ],
   "id": "dc2a25b6c9e4f2fa"
  },
  {
   "metadata": {},
   "cell_type": "markdown",
   "source": [
    "## Distribution of Credit Class by Personal Status\n",
    "- Count the occurrences of 'good' and 'bad' for each unique entry in the 'personal_status' field.\n",
    "- Group them together for easy displaying.\n",
    "- Plot as a double bar chart."
   ],
   "id": "959c3ca5ab88add2"
  },
  {
   "metadata": {},
   "cell_type": "markdown",
   "source": [
    "### Counts\n",
    "Using the .value_counts() we can calculate the occurrences of each credit class for each unique personal status."
   ],
   "id": "ed230aa34833f495"
  },
  {
   "metadata": {
    "ExecuteTime": {
     "end_time": "2025-10-26T23:53:00.659612Z",
     "start_time": "2025-10-26T23:53:00.656819Z"
    }
   },
   "cell_type": "code",
   "source": [
    "# Do counts for each 'personal_status' value where 'class' attribute is 'good'.\n",
    "counts_good_personal_status = df[df['class'] == 'good']['personal_status'].value_counts()\n",
    "\n",
    "# Do the same as above except only for when the 'class' attribute is 'bad'.\n",
    "counts_bad_personal_status = df[df['class'] == 'bad']['personal_status'].value_counts()"
   ],
   "id": "7754fb056de0e961",
   "outputs": [],
   "execution_count": 32
  },
  {
   "metadata": {},
   "cell_type": "markdown",
   "source": [
    "### Data Preperation\n",
    "Plotting is done using a double-bar chart. This way we can more easily and effectively display what is most important. This also acts like a point of comparison between the two credit classes.\n",
    "A width parameter is necessary to avoid bars overlapping with each other on the same x-values."
   ],
   "id": "7af9330ef230ad38"
  },
  {
   "metadata": {},
   "cell_type": "markdown",
   "source": [
    "#### Decoration\n",
    "First the actual figure is created along with an axes. Some decoration is created; title, and labels."
   ],
   "id": "f88846748aa9b6c9"
  },
  {
   "metadata": {
    "ExecuteTime": {
     "end_time": "2025-10-26T23:53:00.707190Z",
     "start_time": "2025-10-26T23:53:00.662547Z"
    }
   },
   "cell_type": "code",
   "source": [
    "# Create a figure and axes object for the creation of the graph.\n",
    "fig_personal_status, g1 = plt.subplots()\n",
    "\n",
    "# Minor details and decorations for easier viewing and labels.\n",
    "g1.set_title(\"Distribution of Credit Class by Personal Status\")\n",
    "g1.set_xlabel(\"Personal Status\")\n",
    "g1.set_ylabel(\"Counts\");\n",
    "\n",
    "# I can't get it to not show the empty graph\n",
    "    # (at least on PyCharm)"
   ],
   "id": "510dfd978d008042",
   "outputs": [
    {
     "data": {
      "text/plain": [
       "<Figure size 640x480 with 1 Axes>"
      ],
      "image/png": "[encoded data removed]"
     },
     "metadata": {},
     "output_type": "display_data",
     "jetTransient": {
      "display_id": null
     }
    }
   ],
   "execution_count": 33
  },
  {
   "metadata": {},
   "cell_type": "markdown",
   "source": [
    "#### X-Axis Labels\n",
    "The X-axis labels have to be evenly arranged, for this the .set_xticks() function is used to tell pyplot where to set the x-axis labels.\n",
    "The .unique() pandas function is used to get all the unique saving_status entries. These are then used as x-axis labels from where the bar charts will have their roots."
   ],
   "id": "67268260176c3420"
  },
  {
   "metadata": {
    "ExecuteTime": {
     "end_time": "2025-10-26T23:53:00.717601Z",
     "start_time": "2025-10-26T23:53:00.714528Z"
    }
   },
   "cell_type": "code",
   "source": [
    "# Calculate the positions of each bar origin.\n",
    "# This will save the positions which can then be used to calculate the offset for the two bars.\n",
    "statuses = df['personal_status'].unique()\n",
    "x = np.arange(len(statuses))\n",
    "g1.set_xticks(x)\n",
    "g1.set_xticklabels(statuses)"
   ],
   "id": "32828cfd6488af2b",
   "outputs": [
    {
     "data": {
      "text/plain": [
       "[Text(0, 0, 'male single'),\n",
       " Text(1, 0, 'female div/dep/mar'),\n",
       " Text(2, 0, 'male div/sep'),\n",
       " Text(3, 0, 'male mar/wid')]"
      ]
     },
     "execution_count": 34,
     "metadata": {},
     "output_type": "execute_result"
    }
   ],
   "execution_count": 34
  },
  {
   "metadata": {},
   "cell_type": "markdown",
   "source": "### Plotting",
   "id": "462a9747b0a43160"
  },
  {
   "metadata": {
    "ExecuteTime": {
     "end_time": "2025-10-26T23:53:00.767217Z",
     "start_time": "2025-10-26T23:53:00.726455Z"
    }
   },
   "cell_type": "code",
   "source": [
    "# Plotting the finished data using the .bar() function to create bar graphs.\n",
    "g1.bar(x - bar_width/2, counts_good_personal_status, bar_width, label='Good Credit Class', color='#06d6a0')\n",
    "\n",
    "# By plotting it twice and offsetting them from the original positions decided by 'x' variable,\n",
    "# it's possible to display both right next to each other.\n",
    "g1.bar(x + bar_width/2, counts_bad_personal_status, bar_width, label='Bad Credit Class', color='#ef476f')\n",
    "g1.legend()\n",
    "\n",
    "# Display final figure (graph).\n",
    "fig_personal_status"
   ],
   "id": "dac3a35ad7e0983c",
   "outputs": [
    {
     "data": {
      "text/plain": [
       "<Figure size 640x480 with 1 Axes>"
      ],
      "image/png": "[encoded data removed]"
     },
     "execution_count": 35,
     "metadata": {},
     "output_type": "execute_result"
    }
   ],
   "execution_count": 35
  },
  {
   "metadata": {},
   "cell_type": "markdown",
   "source": [
    "## Distribution of Credit Class by Saving Status\n",
    "- Count the occurrences of 'good' and 'bad' for each unique entry in the 'saving_status' field.\n",
    "- Group them together for easy displaying.\n",
    "- Plot as a double bar chart.\n",
    "- *(this is the same as the task above just with a different field)*."
   ],
   "id": "c4c2f50fec4f5a6a"
  },
  {
   "metadata": {},
   "cell_type": "markdown",
   "source": [
    "### Counting\n",
    "Counting is done the same way as the chart above."
   ],
   "id": "4929a3c0e5de6098"
  },
  {
   "metadata": {
    "ExecuteTime": {
     "end_time": "2025-10-26T23:53:00.781069Z",
     "start_time": "2025-10-26T23:53:00.777747Z"
    }
   },
   "cell_type": "code",
   "source": [
    "# Counting (same as before)\n",
    "counts_good_saving_status = df[df['class'] == 'good']['saving_status'].value_counts()\n",
    "counts_bad_saving_status = df[df['class'] == 'bad']['saving_status'].value_counts()"
   ],
   "id": "78ce7e785bc8d3ec",
   "outputs": [],
   "execution_count": 36
  },
  {
   "metadata": {},
   "cell_type": "markdown",
   "source": "### Data Preperation",
   "id": "77dab6b85c1cf47b"
  },
  {
   "metadata": {},
   "cell_type": "markdown",
   "source": [
    "#### Decoration\n",
    "First the actual figure is created along with an axes. Some decoration is created; title, and labels."
   ],
   "id": "5ce540e54fa1aa13"
  },
  {
   "metadata": {
    "ExecuteTime": {
     "end_time": "2025-10-26T23:53:00.828925Z",
     "start_time": "2025-10-26T23:53:00.786622Z"
    }
   },
   "cell_type": "code",
   "source": [
    "# Create NEW figure and axes objects (same as before)\n",
    "fig_saving_status, g2 = plt.subplots()\n",
    "g2.set_title(\"Distribution of Credit Class by Saving Status\")\n",
    "g2.set_xlabel(\"Saving Status\")\n",
    "g2.set_ylabel(\"Counts\")"
   ],
   "id": "e820dd481c3164e7",
   "outputs": [
    {
     "data": {
      "text/plain": [
       "Text(0, 0.5, 'Counts')"
      ]
     },
     "execution_count": 37,
     "metadata": {},
     "output_type": "execute_result"
    },
    {
     "data": {
      "text/plain": [
       "<Figure size 640x480 with 1 Axes>"
      ],
      "image/png": "[encoded data removed]"
     },
     "metadata": {},
     "output_type": "display_data",
     "jetTransient": {
      "display_id": null
     }
    }
   ],
   "execution_count": 37
  },
  {
   "metadata": {},
   "cell_type": "markdown",
   "source": [
    "#### X-Axis Labels\n",
    "The X-axis labels have to be evenly arranged, for this the .set_xticks() function is used to tell pyplot where to set the x-axis labels.\n",
    "The .unique() pandas function is used to get all the unique saving_status entries. These are then used as x-axis labels from where the bar charts will have their roots."
   ],
   "id": "d07ba182b2db9fb1"
  },
  {
   "metadata": {
    "ExecuteTime": {
     "end_time": "2025-10-26T23:53:00.841713Z",
     "start_time": "2025-10-26T23:53:00.838469Z"
    }
   },
   "cell_type": "code",
   "source": [
    "statuses = df['saving_status'].unique()\n",
    "x = np.arange(len(statuses))\n",
    "g2.set_xticks(x)\n",
    "g2.set_xticklabels(statuses)"
   ],
   "id": "7367b077563148a9",
   "outputs": [
    {
     "data": {
      "text/plain": [
       "[Text(0, 0, 'no known savings'),\n",
       " Text(1, 0, '<100'),\n",
       " Text(2, 0, '500<=X<1000'),\n",
       " Text(3, 0, '>=1000'),\n",
       " Text(4, 0, '100<=X<500')]"
      ]
     },
     "execution_count": 38,
     "metadata": {},
     "output_type": "execute_result"
    }
   ],
   "execution_count": 38
  },
  {
   "metadata": {},
   "cell_type": "markdown",
   "source": "### Plotting",
   "id": "afecf4a6eb30b59b"
  },
  {
   "metadata": {
    "ExecuteTime": {
     "end_time": "2025-10-26T23:53:00.891955Z",
     "start_time": "2025-10-26T23:53:00.849493Z"
    }
   },
   "cell_type": "code",
   "source": [
    "# Plotting here.\n",
    "g2.bar(x - bar_width/2, counts_good_saving_status, bar_width, label='Good Credit Class', color='#06d6a0')\n",
    "g2.bar(x + bar_width/2, counts_bad_saving_status, bar_width, label='Bad Credit Class', color='#ef476f')\n",
    "g2.legend()\n",
    "\n",
    "fig_saving_status"
   ],
   "id": "33a62edb58c822a5",
   "outputs": [
    {
     "data": {
      "text/plain": [
       "<Figure size 640x480 with 1 Axes>"
      ],
      "image/png": "[encoded data removed]"
     },
     "execution_count": 39,
     "metadata": {},
     "output_type": "execute_result"
    }
   ],
   "execution_count": 39
  }
 ],
 "metadata": {
  "kernelspec": {
   "display_name": "Python 3",
   "language": "python",
   "name": "python3"
  },
  "language_info": {
   "codemirror_mode": {
    "name": "ipython",
    "version": 2
   },
   "file_extension": ".py",
   "mimetype": "text/x-python",
   "name": "python",
   "nbconvert_exporter": "python",
   "pygments_lexer": "ipython2",
   "version": "2.7.6"
  }
 },
 "nbformat": 4,
 "nbformat_minor": 5
}
