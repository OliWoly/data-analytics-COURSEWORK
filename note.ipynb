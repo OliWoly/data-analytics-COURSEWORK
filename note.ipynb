{
 "cells": [
  {
   "metadata": {},
   "cell_type": "markdown",
   "source": [
    "# Data Analytics Coursework\n",
    "**Oliwier Kulczycki**"
   ],
   "id": "a0165f7457591613"
  },
  {
   "metadata": {},
   "cell_type": "markdown",
   "source": [
    "# Setup\n",
    "I personally suggest using a Python virtual env (venv).\n",
    "Requirements.txt is provided, or you can see below for imports."
   ],
   "id": "cafaf42314c96a0c"
  },
  {
   "cell_type": "code",
   "id": "initial_id",
   "metadata": {
    "collapsed": true
   },
   "source": [
    "from matplotlib import pyplot as plt\n",
    "import pandas as pd\n",
    "import numpy as np\n",
    "import scipy.stats as stats"
   ],
   "outputs": [],
   "execution_count": null
  },
  {
   "metadata": {},
   "cell_type": "code",
   "source": [
    "path_full = \"credits-clean.csv\"\n",
    "df = pd.read_csv(path_full)\n",
    "\n",
    "bar_width = 0.25"
   ],
   "id": "4320f0e971405a93",
   "outputs": [],
   "execution_count": null
  },
  {
   "metadata": {},
   "cell_type": "markdown",
   "source": "Show the original dataframe for reference.",
   "id": "c15d53d584d65344"
  },
  {
   "metadata": {},
   "cell_type": "code",
   "source": "df",
   "id": "7380102823562016",
   "outputs": [],
   "execution_count": null
  },
  {
   "metadata": {},
   "cell_type": "markdown",
   "source": "***",
   "id": "78fe33dcf4be99ae"
  },
  {
   "metadata": {},
   "cell_type": "markdown",
   "source": [
    "# Dataset Versions\n",
    "*(Nominal and Numeric Conversions)*"
   ],
   "id": "d72a8812cda322bc"
  },
  {
   "metadata": {},
   "cell_type": "markdown",
   "source": [
    "## Converting to numeric\n",
    "For this task, I decided to use a method which 'enumrates' through every unique value within each column and assigns it an integer."
   ],
   "id": "deb3e9afd6f4c6dc"
  },
  {
   "metadata": {},
   "cell_type": "code",
   "source": [
    "# Have to create a copy of the dataframe using df.copy(),\n",
    "# otherwise the variable df_numeric would just end up pointing to df, instead of being separate.\n",
    "# This messed me up for a while as the rest of the program wouldn't work.\n",
    "df_numeric = df.copy()"
   ],
   "id": "f394d81c0e7ea6b8",
   "outputs": [],
   "execution_count": null
  },
  {
   "metadata": {},
   "cell_type": "code",
   "source": [
    "# Go through each column.\n",
    "for col in df_numeric.columns:\n",
    "    # Avoid the already numeric fields.\n",
    "    if col == 'Case_no' or col == 'credit_amount' or col == 'age':\n",
    "        continue\n",
    "    df_numeric[col] = df_numeric[col].astype('category').cat.codes\n",
    "\n",
    "# Show the work done.\n",
    "df_numeric"
   ],
   "id": "d697b3b14d232a33",
   "outputs": [],
   "execution_count": null
  },
  {
   "metadata": {},
   "cell_type": "code",
   "source": [
    "for col in df_numeric.columns:\n",
    "    if col == 'Case_no' or col == 'credit_amount' or col == 'age':\n",
    "        continue\n",
    "    categories = df[col].astype('category').cat.categories\n",
    "    codes = list(range(len(categories)))\n",
    "    mapping = dict(zip(codes, categories))\n",
    "    print(f\"{col} mapping:\", mapping)"
   ],
   "id": "8fff1d0f655f809c",
   "outputs": [],
   "execution_count": null
  },
  {
   "metadata": {},
   "cell_type": "markdown",
   "source": "Creates the numeric version of the .csv file.",
   "id": "44a0312a71ac3270"
  },
  {
   "metadata": {
    "tags": [
     "dontautorun"
    ]
   },
   "cell_type": "code",
   "source": [
    "# Have to include 'index=False'.\n",
    "pd.DataFrame.to_csv(df_numeric, \"credits-clean-numeric(indexed).csv\", index=True) # bad\n",
    "pd.DataFrame.to_csv(df_numeric, \"credits-clean-numeric.csv\", index=False)"
   ],
   "id": "5cf728699099a3b2",
   "outputs": [],
   "execution_count": null
  },
  {
   "metadata": {},
   "cell_type": "markdown",
   "source": [
    "## Converting to nominal\n",
    "Grouping numeric values into a text representation."
   ],
   "id": "cb46c3fb70c7fa27"
  },
  {
   "metadata": {},
   "cell_type": "code",
   "source": "df_nominal = df.copy()",
   "id": "9f8062aea3d8c1b0",
   "outputs": [],
   "execution_count": null
  },
  {
   "metadata": {},
   "cell_type": "markdown",
   "source": "Casting the Case_no to string. There is no good string representation of these as these are indexes.",
   "id": "a22c73495bd9627"
  },
  {
   "metadata": {},
   "cell_type": "code",
   "source": [
    "# Show type of attribute before any changes are made.\n",
    "print(\"Type pre:\", df_nominal['Case_no'].dtype)\n",
    "\n",
    "# Casting the type to string.\n",
    "df_nominal['Case_no'] = df['Case_no'].astype(str)\n",
    "\n",
    "# Display and prove change of type.\n",
    "print(\"Type post:\", df_nominal['Case_no'].dtype)\n",
    "# Output should come out as simply 'object'"
   ],
   "id": "eb50847402159eb5",
   "outputs": [],
   "execution_count": null
  },
  {
   "metadata": {},
   "cell_type": "markdown",
   "source": "Deciding the ranges for each label.",
   "id": "3e04f73eea2c2dbe"
  },
  {
   "metadata": {},
   "cell_type": "code",
   "source": [
    "# Bins for the 'age' attribute.\n",
    "bins_age = [0, 18, 30, 60, 80]\n",
    "labels_age = [\"child\",\n",
    "              \"young-adult\",\n",
    "              \"adult\",\n",
    "              \"elderly\"]\n",
    "\n",
    "# Bins for the 'credit_amount' attribute.\n",
    "bins_credit_amount = [0, 500, 1000, 2000, 5000, 10000, 100000]\n",
    "labels_credit_amount = [\"very-low\",\n",
    "                        \"low\",\n",
    "                        \"moderate\",\n",
    "                        \"high\",\n",
    "                        \"really-high\",\n",
    "                        \"exceptional\"]"
   ],
   "id": "18128514c3b5c274",
   "outputs": [],
   "execution_count": null
  },
  {
   "metadata": {},
   "cell_type": "markdown",
   "source": "Applying the value bins.",
   "id": "b9f411111b2ffb18"
  },
  {
   "metadata": {},
   "cell_type": "code",
   "source": [
    "# Use the pd.cut() as per the documentation.\n",
    "# This is a tool already made for binning and classification.\n",
    "df_nominal['age'] = pd.cut(df_nominal['age'], bins=bins_age, labels=labels_age)\n",
    "df_nominal['credit_amount'] = pd.cut(df_nominal['credit_amount'], bins=bins_credit_amount, labels=labels_credit_amount)\n",
    "\n",
    "# Show work done.\n",
    "print(df_nominal['credit_amount'].value_counts())\n",
    "print(df_nominal['age'].value_counts())"
   ],
   "id": "8d778686fdf6bc58",
   "outputs": [],
   "execution_count": null
  },
  {
   "metadata": {},
   "cell_type": "markdown",
   "source": "Save the file",
   "id": "70f88338812c7b46"
  },
  {
   "metadata": {},
   "cell_type": "code",
   "source": "pd.DataFrame.to_csv(df_nominal, \"credits-clean-nominal.csv\", index=False)",
   "id": "7b8a50383d3be3c7",
   "outputs": [],
   "execution_count": null
  },
  {
   "metadata": {},
   "cell_type": "markdown",
   "source": "***",
   "id": "50075bdd8a4d3d7a"
  },
  {
   "metadata": {},
   "cell_type": "markdown",
   "source": [
    "# Data visualisation\n",
    "Using pyplot."
   ],
   "id": "dc2a25b6c9e4f2fa"
  },
  {
   "metadata": {},
   "cell_type": "markdown",
   "source": [
    "## Distribution of Credit Class by Personal Status\n",
    "- Count the occurrences of 'good' and 'bad' for each unique entry in the 'personal_status' field.\n",
    "- Group them together for easy displaying.\n",
    "- Plot as a double bar chart."
   ],
   "id": "959c3ca5ab88add2"
  },
  {
   "metadata": {},
   "cell_type": "markdown",
   "source": [
    "### Counts\n",
    "Using the .value_counts() we can calculate the occurrences of each credit class for each unique personal status."
   ],
   "id": "ed230aa34833f495"
  },
  {
   "metadata": {},
   "cell_type": "code",
   "source": [
    "# Do counts for each 'personal_status' value where 'class' attribute is 'good'.\n",
    "counts_good_personal_status = df[df['class'] == 'good']['personal_status'].value_counts()\n",
    "\n",
    "# Do the same as above except only for when the 'class' attribute is 'bad'.\n",
    "counts_bad_personal_status = df[df['class'] == 'bad']['personal_status'].value_counts()"
   ],
   "id": "7754fb056de0e961",
   "outputs": [],
   "execution_count": null
  },
  {
   "metadata": {},
   "cell_type": "markdown",
   "source": [
    "### Data Preperation\n",
    "Plotting is done using a double-bar chart. This way we can more easily and effectively display what is most important. This also acts like a point of comparison between the two credit classes.\n",
    "A width parameter is necessary to avoid bars overlapping with each other on the same x-values."
   ],
   "id": "7af9330ef230ad38"
  },
  {
   "metadata": {},
   "cell_type": "markdown",
   "source": [
    "#### Decoration\n",
    "First the actual figure is created along with an axes. Some decoration is created; title, and labels."
   ],
   "id": "f88846748aa9b6c9"
  },
  {
   "metadata": {},
   "cell_type": "code",
   "source": [
    "# Create a figure and axes object for the creation of the graph.\n",
    "fig_personal_status, g1 = plt.subplots()\n",
    "\n",
    "# Minor details and decorations for easier viewing and labels.\n",
    "g1.set_title(\"Distribution of Credit Class by Personal Status\")\n",
    "g1.set_xlabel(\"Personal Status\")\n",
    "g1.set_ylabel(\"Counts\");\n",
    "\n",
    "# I can't get it to not show the empty graph\n",
    "    # (at least on PyCharm)"
   ],
   "id": "510dfd978d008042",
   "outputs": [],
   "execution_count": null
  },
  {
   "metadata": {},
   "cell_type": "markdown",
   "source": [
    "#### X-Axis Labels\n",
    "The X-axis labels have to be evenly arranged, for this the .set_xticks() function is used to tell pyplot where to set the x-axis labels.\n",
    "The .unique() pandas function is used to get all the unique saving_status entries. These are then used as x-axis labels from where the bar charts will have their roots."
   ],
   "id": "67268260176c3420"
  },
  {
   "metadata": {},
   "cell_type": "code",
   "source": [
    "# Calculate the positions of each bar origin.\n",
    "# This will save the positions which can then be used to calculate the offset for the two bars.\n",
    "statuses = df['personal_status'].unique()\n",
    "x = np.arange(len(statuses))\n",
    "g1.set_xticks(x)\n",
    "g1.set_xticklabels(statuses)"
   ],
   "id": "32828cfd6488af2b",
   "outputs": [],
   "execution_count": null
  },
  {
   "metadata": {},
   "cell_type": "markdown",
   "source": "### Plotting",
   "id": "462a9747b0a43160"
  },
  {
   "metadata": {},
   "cell_type": "code",
   "source": [
    "# Plotting the finished data using the .bar() function to create bar graphs.\n",
    "g1.bar(x - bar_width/2, counts_good_personal_status, bar_width, label='Good Credit Class', color='#06d6a0')\n",
    "\n",
    "# By plotting it twice and offsetting them from the original positions decided by 'x' variable,\n",
    "# it's possible to display both right next to each other.\n",
    "g1.bar(x + bar_width/2, counts_bad_personal_status, bar_width, label='Bad Credit Class', color='#ef476f')\n",
    "g1.legend()\n",
    "\n",
    "# Display final figure (graph).\n",
    "fig_personal_status"
   ],
   "id": "dac3a35ad7e0983c",
   "outputs": [],
   "execution_count": null
  },
  {
   "metadata": {},
   "cell_type": "markdown",
   "source": [
    "## Distribution of Credit Class by Saving Status\n",
    "- Count the occurrences of 'good' and 'bad' for each unique entry in the 'saving_status' field.\n",
    "- Group them together for easy displaying.\n",
    "- Plot as a double bar chart.\n",
    "- *(this is the same as the task above just with a different field)*."
   ],
   "id": "c4c2f50fec4f5a6a"
  },
  {
   "metadata": {},
   "cell_type": "markdown",
   "source": [
    "### Counting\n",
    "Counting is done the same way as the chart above."
   ],
   "id": "4929a3c0e5de6098"
  },
  {
   "metadata": {},
   "cell_type": "code",
   "source": [
    "# Counting (same as before)\n",
    "counts_good_saving_status = df[df['class'] == 'good']['saving_status'].value_counts()\n",
    "counts_bad_saving_status = df[df['class'] == 'bad']['saving_status'].value_counts()"
   ],
   "id": "78ce7e785bc8d3ec",
   "outputs": [],
   "execution_count": null
  },
  {
   "metadata": {},
   "cell_type": "markdown",
   "source": "### Data Preperation",
   "id": "77dab6b85c1cf47b"
  },
  {
   "metadata": {},
   "cell_type": "markdown",
   "source": [
    "#### Decoration\n",
    "First the actual figure is created along with an axes. Some decoration is created; title, and labels."
   ],
   "id": "5ce540e54fa1aa13"
  },
  {
   "metadata": {},
   "cell_type": "code",
   "source": [
    "# Create NEW figure and axes objects (same as before)\n",
    "fig_saving_status, g2 = plt.subplots()\n",
    "g2.set_title(\"Distribution of Credit Class by Saving Status\")\n",
    "g2.set_xlabel(\"Saving Status\")\n",
    "g2.set_ylabel(\"Counts\")"
   ],
   "id": "e820dd481c3164e7",
   "outputs": [],
   "execution_count": null
  },
  {
   "metadata": {},
   "cell_type": "markdown",
   "source": [
    "#### X-Axis Labels\n",
    "The X-axis labels have to be evenly arranged, for this the .set_xticks() function is used to tell pyplot where to set the x-axis labels.\n",
    "The .unique() pandas function is used to get all the unique saving_status entries. These are then used as x-axis labels from where the bar charts will have their roots."
   ],
   "id": "d07ba182b2db9fb1"
  },
  {
   "metadata": {},
   "cell_type": "code",
   "source": [
    "statuses = df['saving_status'].unique()\n",
    "x = np.arange(len(statuses))\n",
    "g2.set_xticks(x)\n",
    "g2.set_xticklabels(statuses)"
   ],
   "id": "7367b077563148a9",
   "outputs": [],
   "execution_count": null
  },
  {
   "metadata": {},
   "cell_type": "markdown",
   "source": "### Plotting",
   "id": "afecf4a6eb30b59b"
  },
  {
   "metadata": {},
   "cell_type": "code",
   "source": [
    " # Plotting here.\n",
    "g2.bar(x - bar_width/2, counts_good_saving_status, bar_width, label='Good Credit Class', color='#06d6a0')\n",
    "g2.bar(x + bar_width/2, counts_bad_saving_status, bar_width, label='Bad Credit Class', color='#ef476f')\n",
    "g2.legend()\n",
    "\n",
    "fig_saving_status"
   ],
   "id": "33a62edb58c822a5",
   "outputs": [],
   "execution_count": null
  },
  {
   "metadata": {},
   "cell_type": "markdown",
   "source": "***",
   "id": "170ef078a5ccece7"
  },
  {
   "metadata": {},
   "cell_type": "markdown",
   "source": "# Statistical Analysis",
   "id": "7353439c57d99a5"
  },
  {
   "metadata": {},
   "cell_type": "markdown",
   "source": [
    "Get expected dataset (entire cleaned dataset)\n",
    "shorten it to the length of personal_status and saving_status\n",
    "get chi score for each personal status\n"
   ],
   "id": "bb22463f9cd97fd5"
  },
  {
   "metadata": {},
   "cell_type": "code",
   "source": [
    "# Expected data from global (non split by personal_status/saving_status fields) from dataset.\n",
    "global_ps = df['class'].value_counts()\n",
    "global_ratios = global_ps/global_ps.sum()\n",
    "\n",
    "# Pre-make dictionaries containing data.\n",
    "local_personal_status = {}\n",
    "expected_personal_status = {}\n",
    "\n",
    "# Same for saving status\n",
    "local_saving_status = {}\n",
    "expected_saving_status = {}\n",
    "\n",
    "# Loop through each unique category in the attribute.\n",
    "for value in df['personal_status'].unique():\n",
    "    # Get observed results using boolean masking\n",
    "    local_personal_status[value] = (df[df['personal_status'] == value]['class'].value_counts())\n",
    "    # Calculate the expected result based on the size of the occurences of the category within the attribute.\n",
    "    expected_personal_status[value] = global_ratios * local_personal_status[value].sum()\n",
    "\n",
    "for value in df['saving_status'].unique():\n",
    "    local_saving_status[value] = (df[df['saving_status'] == value]['class'].value_counts())\n",
    "    expected_saving_status[value] = global_ratios * local_saving_status[value].sum()"
   ],
   "id": "5915ee740b4da5f7",
   "outputs": [],
   "execution_count": null
  },
  {
   "metadata": {},
   "cell_type": "markdown",
   "source": [
    "## Calculate the Chi Squared Pvalues.\n",
    "Chi Squared results are calculated using the built-in scipy function."
   ],
   "id": "bd7d076d98afb2fd"
  },
  {
   "metadata": {},
   "cell_type": "code",
   "source": [
    "# Chi Squared Calculation\n",
    "full_chisquare_personal_status = {}\n",
    "for key in local_personal_status.keys():\n",
    "    full_chisquare_personal_status[key] = stats.chisquare(f_obs=local_personal_status[key], f_exp=expected_personal_status[key])\n",
    "\n",
    "full_chisquare_saving_status = {}\n",
    "for key in local_saving_status.keys():\n",
    "    full_chisquare_saving_status[key] = stats.chisquare(f_obs=local_saving_status[key], f_exp=expected_saving_status[key])"
   ],
   "id": "371386f15012de15",
   "outputs": [],
   "execution_count": null
  },
  {
   "metadata": {},
   "cell_type": "markdown",
   "source": [
    "### Print all the results\n",
    "Show all the pvalues."
   ],
   "id": "e4a26721ec7ce0ba"
  },
  {
   "metadata": {},
   "cell_type": "code",
   "source": [
    "# Printing Results\n",
    "print(\"Personal Status:\")\n",
    "for key in full_chisquare_personal_status.keys():\n",
    "    print(f\"{key}\"\n",
    "          f\"\\nChiScore: {full_chisquare_personal_status[key][0]}\"\n",
    "          f\"\\nPValue: {full_chisquare_personal_status[key][1]}\")\n",
    "    print(\"\")\n",
    "\n",
    "print(\"Saving Status:\")\n",
    "for key in full_chisquare_saving_status.keys():\n",
    "    print(f\"{key}\"\n",
    "          f\"\\nChiScore: {full_chisquare_saving_status[key][0]}\"\n",
    "          f\"\\nPValue: {full_chisquare_saving_status[key][1]}\")\n",
    "    print(\"\")"
   ],
   "id": "e66e81468b3384ad",
   "outputs": [],
   "execution_count": null
  },
  {
   "metadata": {},
   "cell_type": "markdown",
   "source": [
    "### Print all problematic results.\n",
    "List for easy viewing a list of all categories which exceed the threshold pvalue."
   ],
   "id": "77ff7da917cc505b"
  },
  {
   "metadata": {},
   "cell_type": "code",
   "source": [
    "# List all attributes which deviated greatly from the global distribution of good/bad credit class.\n",
    "problematic_list = []\n",
    "for key in full_chisquare_personal_status.keys():\n",
    "    if full_chisquare_personal_status[key][1] <= 0.05:\n",
    "        problematic_list.append([key, full_chisquare_personal_status[key][1]])\n",
    "for key in full_chisquare_saving_status.keys():\n",
    "    if full_chisquare_saving_status[key][1] <= 0.05:\n",
    "        problematic_list.append([key, full_chisquare_saving_status[key][1]])\n",
    "\n",
    "\n",
    "for i in range(len(problematic_list)):\n",
    "    print(problematic_list[i][0] + \":\")\n",
    "    print(\"Pvalue: \" + str(problematic_list[i][1]))\n",
    "    print(\"\")"
   ],
   "id": "ca178c886d7f8957",
   "outputs": [],
   "execution_count": null
  }
 ],
 "metadata": {
  "kernelspec": {
   "display_name": "Python 3",
   "language": "python",
   "name": "python3"
  },
  "language_info": {
   "codemirror_mode": {
    "name": "ipython",
    "version": 2
   },
   "file_extension": ".py",
   "mimetype": "text/x-python",
   "name": "python",
   "nbconvert_exporter": "python",
   "pygments_lexer": "ipython2",
   "version": "2.7.6"
  }
 },
 "nbformat": 4,
 "nbformat_minor": 5
}
